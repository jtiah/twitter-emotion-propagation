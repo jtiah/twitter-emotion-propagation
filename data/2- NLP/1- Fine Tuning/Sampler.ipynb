{
 "cells": [
  {
   "cell_type": "code",
   "execution_count": 4,
   "metadata": {},
   "outputs": [],
   "source": [
    "import pandas as pd\n",
    "class Sampler:\n",
    "\n",
    "    def __init__(self):\n",
    "        \"\"\"Loading all three frames and saving them\"\"\"\n",
    "        data_path = \"../../../1- Processed data/\"\n",
    "        file_paths = (['DF-journalists-tweets.csv',\n",
    "                      'DF-universities-tweets.csv',\n",
    "                      'DF-us_congressmen-tweets.csv'])\n",
    "        self.dfs = []\n",
    "        for path in file_paths:\n",
    "            self.dfs.append(self.load_english(data_path + path))\n",
    "            \n",
    "    def load_english(self, path):\n",
    "        name = path.split(\"-\")[-2]\n",
    "        df = pd.read_csv(path)\n",
    "        df = df[df.retweeted]\n",
    "        df['name'] = [name]*len(df)\n",
    "        return df\n",
    "    \n",
    "    def sample_from_each(self, nr_samples_from_each, seed = None):\n",
    "        all_samples = []\n",
    "        for df in self.dfs:\n",
    "            all_samples.append(df.sample(nr_samples_from_each, random_state = seed))\n",
    "\n",
    "        return pd.concat(all_samples).sample(frac=1)\n",
    "        "
   ]
  },
  {
   "cell_type": "code",
   "execution_count": 12,
   "metadata": {},
   "outputs": [],
   "source": [
    "\"\"\"The seed have been changed, so the random_state will not give the same samples anymore\"\"\"\n",
    "# sampler = Sampler()\n",
    "\n",
    "# # Creating the samples for initial clasification\n",
    "# samples = sampler.sample_from_each(33)\n",
    "# # Creating the samples for later clasification\n",
    "# samples.to_csv('raw_texts/100_samples.csv', index = False, encoding = 'utf-8')\n",
    "\n",
    "# # Creating the samples for batch 4\n",
    "# samples = sampler.sample_from_each(33, 42)\n",
    "# # Creating the samples for later clasification\n",
    "# samples.to_csv('Batch 4 v 2 - Samples.csv', index = False, encoding = 'utf-8')\n",
    "\n",
    "# # Creating the samples for the final samples.\n",
    "# samples = sampler.sample_from_each(667, seed = 27)\n",
    "# # Creating the samples for later clasification\n",
    "# samples.to_csv('raw_texts/gifa - Samples.csv', index = False, encoding = 'utf-8')\n",
    "\n",
    "\n",
    "# # Creating the samples for the final samples.\n",
    "# samples = sampler.sample_from_each(667, seed = 6)\n",
    "# # Creating the samples for later clasification\n",
    "# samples.to_csv('raw_texts/jtih - Samples.csv', index = False, encoding = 'utf-8')\n",
    "\n",
    "\n",
    "# # Creating the samples for the final samples.\n",
    "# samples = sampler.sample_from_each(667, seed = 42)\n",
    "# # Creating the samples for later clasification\n",
    "# samples.to_csv('raw_texts/joto - Samples.csv', index = False, encoding = 'utf-8')\n",
    "\n",
    "# Creating samples for journalist only, \n",
    "samples = sampler.sample_from_each(600, seed = 123)\n",
    "samples = samples[samples.name == 'journalists']\n",
    "# Creating them for each:\n",
    "# Gino\n",
    "samples.iloc[:200].to_csv('gifa_journalist.csv', index = False)\n",
    "# Jose\n",
    "samples.iloc[200:400].to_csv('jtih_journalist.csv', index = False)\n",
    "# Jona\n",
    "samples.iloc[400:].to_csv('joto_journalist.csv', index = False)\n"
   ]
  },
  {
   "cell_type": "code",
   "execution_count": null,
   "metadata": {},
   "outputs": [],
   "source": []
  }
 ],
 "metadata": {
  "kernelspec": {
   "display_name": "Python 3",
   "language": "python",
   "name": "python3"
  },
  "language_info": {
   "codemirror_mode": {
    "name": "ipython",
    "version": 3
   },
   "file_extension": ".py",
   "mimetype": "text/x-python",
   "name": "python",
   "nbconvert_exporter": "python",
   "pygments_lexer": "ipython3",
   "version": "3.8.3"
  }
 },
 "nbformat": 4,
 "nbformat_minor": 4
}
